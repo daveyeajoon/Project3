{
 "cells": [
  {
   "cell_type": "code",
   "execution_count": 1,
   "id": "2c045af1",
   "metadata": {},
   "outputs": [],
   "source": [
    "import pandas as pd\n",
    "import numpy as np\n",
    "import tmdbsimple as tmdb\n",
    "import json, os, time\n",
    "from tqdm.notebook import tqdm_notebook"
   ]
  },
  {
   "cell_type": "code",
   "execution_count": 2,
   "id": "fe65c3b7",
   "metadata": {},
   "outputs": [
    {
     "data": {
      "text/plain": [
       "['.ipynb_checkpoints',\n",
       " 'final_tmdb_data_2000.csv.gz',\n",
       " 'final_tmdb_data_2001.csv.gz',\n",
       " 'tmdb_api_results_2000.json',\n",
       " 'tmdb_api_results_2001.json']"
      ]
     },
     "execution_count": 2,
     "metadata": {},
     "output_type": "execute_result"
    }
   ],
   "source": [
    "os.makedirs('Data/',exist_ok=True) \n",
    "# Confirm folder created\n",
    "os.listdir(\"Data/\")"
   ]
  },
  {
   "cell_type": "code",
   "execution_count": 42,
   "id": "2f15afe4",
   "metadata": {},
   "outputs": [],
   "source": [
    "#assign data to variables\n",
    "title_basics_url = \"https://datasets.imdbws.com/title.basics.tsv.gz\"\n",
    "title_akas_url = \"https://datasets.imdbws.com/title.akas.tsv.gz\"\n",
    "title_ratings_url = \"https://datasets.imdbws.com/title.ratings.tsv.gz\""
   ]
  },
  {
   "cell_type": "code",
   "execution_count": 43,
   "id": "885b9a2d",
   "metadata": {},
   "outputs": [],
   "source": [
    "# Open saved file and preview again\n",
    "basics = pd.read_csv(title_basics_url,sep='\\t', low_memory=False)\n",
    "akas = pd.read_csv(title_akas_url,sep='\\t', low_memory=False)\n",
    "rating = pd.read_csv(title_ratings_url,sep='\\t', low_memory=False)"
   ]
  },
  {
   "cell_type": "code",
   "execution_count": 45,
   "id": "8aa576ab",
   "metadata": {},
   "outputs": [],
   "source": [
    "akas.replace({'\\\\N':np.nan}, inplace = True)\n",
    "basics.replace({'\\\\N':np.nan}, inplace = True)\n",
    "rating.replace({'\\\\N':np.nan}, inplace = True)"
   ]
  },
  {
   "cell_type": "code",
   "execution_count": 46,
   "id": "82b1f448",
   "metadata": {},
   "outputs": [
    {
     "data": {
      "text/plain": [
       "tvEpisode       1065118\n",
       "short            574863\n",
       "movie            367365\n",
       "video            175176\n",
       "tvMovie           88361\n",
       "tvSeries          86628\n",
       "tvSpecial         16490\n",
       "tvMiniSeries      16106\n",
       "tvShort            9389\n",
       "videoGame           298\n",
       "Name: titleType, dtype: int64"
      ]
     },
     "execution_count": 46,
     "metadata": {},
     "output_type": "execute_result"
    }
   ],
   "source": [
    "#Exclude any movie with missing values for genre or runtime\n",
    "basics.dropna(subset = ['runtimeMinutes', 'genres'], inplace = True)\n",
    "basics['titleType'].value_counts()"
   ]
  },
  {
   "cell_type": "code",
   "execution_count": 48,
   "id": "d206a910",
   "metadata": {
    "scrolled": false
   },
   "outputs": [
    {
     "data": {
      "text/plain": [
       "movie    367365\n",
       "Name: titleType, dtype: int64"
      ]
     },
     "execution_count": 48,
     "metadata": {},
     "output_type": "execute_result"
    }
   ],
   "source": [
    "#Include only full-length movies (titleType = \"movie\").\n",
    "basics = basics[basics.titleType == 'movie']\n",
    "\n",
    "basics[\"titleType\"].value_counts()"
   ]
  },
  {
   "cell_type": "code",
   "execution_count": 12,
   "id": "2181b19f",
   "metadata": {},
   "outputs": [
    {
     "data": {
      "text/html": [
       "<div>\n",
       "<style scoped>\n",
       "    .dataframe tbody tr th:only-of-type {\n",
       "        vertical-align: middle;\n",
       "    }\n",
       "\n",
       "    .dataframe tbody tr th {\n",
       "        vertical-align: top;\n",
       "    }\n",
       "\n",
       "    .dataframe thead th {\n",
       "        text-align: right;\n",
       "    }\n",
       "</style>\n",
       "<table border=\"1\" class=\"dataframe\">\n",
       "  <thead>\n",
       "    <tr style=\"text-align: right;\">\n",
       "      <th></th>\n",
       "      <th>tconst</th>\n",
       "      <th>titleType</th>\n",
       "      <th>primaryTitle</th>\n",
       "      <th>originalTitle</th>\n",
       "      <th>isAdult</th>\n",
       "      <th>startYear</th>\n",
       "      <th>endYear</th>\n",
       "      <th>runtimeMinutes</th>\n",
       "      <th>genres</th>\n",
       "    </tr>\n",
       "  </thead>\n",
       "  <tbody>\n",
       "    <tr>\n",
       "      <th>8</th>\n",
       "      <td>tt0000009</td>\n",
       "      <td>movie</td>\n",
       "      <td>Miss Jerry</td>\n",
       "      <td>Miss Jerry</td>\n",
       "      <td>0</td>\n",
       "      <td>1894</td>\n",
       "      <td>NaN</td>\n",
       "      <td>45</td>\n",
       "      <td>Romance</td>\n",
       "    </tr>\n",
       "    <tr>\n",
       "      <th>570</th>\n",
       "      <td>tt0000574</td>\n",
       "      <td>movie</td>\n",
       "      <td>The Story of the Kelly Gang</td>\n",
       "      <td>The Story of the Kelly Gang</td>\n",
       "      <td>0</td>\n",
       "      <td>1906</td>\n",
       "      <td>NaN</td>\n",
       "      <td>70</td>\n",
       "      <td>Action,Adventure,Biography</td>\n",
       "    </tr>\n",
       "    <tr>\n",
       "      <th>587</th>\n",
       "      <td>tt0000591</td>\n",
       "      <td>movie</td>\n",
       "      <td>The Prodigal Son</td>\n",
       "      <td>L'enfant prodigue</td>\n",
       "      <td>0</td>\n",
       "      <td>1907</td>\n",
       "      <td>NaN</td>\n",
       "      <td>90</td>\n",
       "      <td>Drama</td>\n",
       "    </tr>\n",
       "    <tr>\n",
       "      <th>672</th>\n",
       "      <td>tt0000679</td>\n",
       "      <td>movie</td>\n",
       "      <td>The Fairylogue and Radio-Plays</td>\n",
       "      <td>The Fairylogue and Radio-Plays</td>\n",
       "      <td>0</td>\n",
       "      <td>1908</td>\n",
       "      <td>NaN</td>\n",
       "      <td>120</td>\n",
       "      <td>Adventure,Fantasy</td>\n",
       "    </tr>\n",
       "    <tr>\n",
       "      <th>1172</th>\n",
       "      <td>tt0001184</td>\n",
       "      <td>movie</td>\n",
       "      <td>Don Juan de Serrallonga</td>\n",
       "      <td>Don Juan de Serrallonga</td>\n",
       "      <td>0</td>\n",
       "      <td>1910</td>\n",
       "      <td>NaN</td>\n",
       "      <td>58</td>\n",
       "      <td>Adventure,Drama</td>\n",
       "    </tr>\n",
       "  </tbody>\n",
       "</table>\n",
       "</div>"
      ],
      "text/plain": [
       "         tconst titleType                    primaryTitle  \\\n",
       "8     tt0000009     movie                      Miss Jerry   \n",
       "570   tt0000574     movie     The Story of the Kelly Gang   \n",
       "587   tt0000591     movie                The Prodigal Son   \n",
       "672   tt0000679     movie  The Fairylogue and Radio-Plays   \n",
       "1172  tt0001184     movie         Don Juan de Serrallonga   \n",
       "\n",
       "                       originalTitle isAdult startYear endYear runtimeMinutes  \\\n",
       "8                         Miss Jerry       0      1894     NaN             45   \n",
       "570      The Story of the Kelly Gang       0      1906     NaN             70   \n",
       "587                L'enfant prodigue       0      1907     NaN             90   \n",
       "672   The Fairylogue and Radio-Plays       0      1908     NaN            120   \n",
       "1172         Don Juan de Serrallonga       0      1910     NaN             58   \n",
       "\n",
       "                          genres  \n",
       "8                        Romance  \n",
       "570   Action,Adventure,Biography  \n",
       "587                        Drama  \n",
       "672            Adventure,Fantasy  \n",
       "1172             Adventure,Drama  "
      ]
     },
     "execution_count": 12,
     "metadata": {},
     "output_type": "execute_result"
    }
   ],
   "source": [
    "basics.head()"
   ]
  },
  {
   "cell_type": "code",
   "execution_count": 13,
   "id": "fc669195",
   "metadata": {},
   "outputs": [
    {
     "data": {
      "text/plain": [
       "Drama                           67991\n",
       "Documentary                     62259\n",
       "Comedy                          28919\n",
       "Comedy,Drama                    10410\n",
       "Drama,Romance                    9790\n",
       "                                ...  \n",
       "Adult,Drama,Musical                 1\n",
       "Crime,Fantasy,Romance               1\n",
       "Adult,Drama,War                     1\n",
       "Documentary,Musical,Thriller        1\n",
       "Crime,Fantasy,Sci-Fi                1\n",
       "Name: genres, Length: 1384, dtype: int64"
      ]
     },
     "execution_count": 13,
     "metadata": {},
     "output_type": "execute_result"
    }
   ],
   "source": [
    "#Include only fictional movies (not from documentary genre)\n",
    "basics['genres'].value_counts()"
   ]
  },
  {
   "cell_type": "code",
   "execution_count": 14,
   "id": "d953e5d8",
   "metadata": {},
   "outputs": [],
   "source": [
    "is_doc = basics['genres'].str.contains('documentary' , case=False)\n",
    "basics = basics[~is_doc]"
   ]
  },
  {
   "cell_type": "code",
   "execution_count": 15,
   "id": "206468d5",
   "metadata": {},
   "outputs": [
    {
     "data": {
      "text/plain": [
       "Drama                        67991\n",
       "Comedy                       28919\n",
       "Comedy,Drama                 10410\n",
       "Drama,Romance                 9790\n",
       "Horror                        7368\n",
       "                             ...  \n",
       "Short,Thriller                   1\n",
       "Comedy,Reality-TV,Romance        1\n",
       "Biography,Music,Mystery          1\n",
       "Adventure,Horror,Musical         1\n",
       "Crime,Fantasy,Sci-Fi             1\n",
       "Name: genres, Length: 1156, dtype: int64"
      ]
     },
     "execution_count": 15,
     "metadata": {},
     "output_type": "execute_result"
    }
   ],
   "source": [
    "basics['genres'].value_counts()"
   ]
  },
  {
   "cell_type": "code",
   "execution_count": 16,
   "id": "dc1af5bd",
   "metadata": {},
   "outputs": [
    {
     "data": {
      "text/html": [
       "<div>\n",
       "<style scoped>\n",
       "    .dataframe tbody tr th:only-of-type {\n",
       "        vertical-align: middle;\n",
       "    }\n",
       "\n",
       "    .dataframe tbody tr th {\n",
       "        vertical-align: top;\n",
       "    }\n",
       "\n",
       "    .dataframe thead th {\n",
       "        text-align: right;\n",
       "    }\n",
       "</style>\n",
       "<table border=\"1\" class=\"dataframe\">\n",
       "  <thead>\n",
       "    <tr style=\"text-align: right;\">\n",
       "      <th></th>\n",
       "      <th>tconst</th>\n",
       "      <th>titleType</th>\n",
       "      <th>primaryTitle</th>\n",
       "      <th>originalTitle</th>\n",
       "      <th>isAdult</th>\n",
       "      <th>startYear</th>\n",
       "      <th>endYear</th>\n",
       "      <th>runtimeMinutes</th>\n",
       "      <th>genres</th>\n",
       "    </tr>\n",
       "  </thead>\n",
       "  <tbody>\n",
       "    <tr>\n",
       "      <th>34791</th>\n",
       "      <td>tt0035423</td>\n",
       "      <td>movie</td>\n",
       "      <td>Kate &amp; Leopold</td>\n",
       "      <td>Kate &amp; Leopold</td>\n",
       "      <td>0</td>\n",
       "      <td>2001</td>\n",
       "      <td>NaN</td>\n",
       "      <td>118</td>\n",
       "      <td>Comedy,Fantasy,Romance</td>\n",
       "    </tr>\n",
       "    <tr>\n",
       "      <th>61091</th>\n",
       "      <td>tt0062336</td>\n",
       "      <td>movie</td>\n",
       "      <td>The Tango of the Widower and Its Distorting Mi...</td>\n",
       "      <td>El Tango del Viudo y Su Espejo Deformante</td>\n",
       "      <td>0</td>\n",
       "      <td>2020</td>\n",
       "      <td>NaN</td>\n",
       "      <td>70</td>\n",
       "      <td>Drama</td>\n",
       "    </tr>\n",
       "    <tr>\n",
       "      <th>67637</th>\n",
       "      <td>tt0069049</td>\n",
       "      <td>movie</td>\n",
       "      <td>The Other Side of the Wind</td>\n",
       "      <td>The Other Side of the Wind</td>\n",
       "      <td>0</td>\n",
       "      <td>2018</td>\n",
       "      <td>NaN</td>\n",
       "      <td>122</td>\n",
       "      <td>Drama</td>\n",
       "    </tr>\n",
       "    <tr>\n",
       "      <th>77931</th>\n",
       "      <td>tt0079644</td>\n",
       "      <td>movie</td>\n",
       "      <td>November 1828</td>\n",
       "      <td>November 1828</td>\n",
       "      <td>0</td>\n",
       "      <td>2001</td>\n",
       "      <td>NaN</td>\n",
       "      <td>140</td>\n",
       "      <td>Drama,War</td>\n",
       "    </tr>\n",
       "    <tr>\n",
       "      <th>86768</th>\n",
       "      <td>tt0088751</td>\n",
       "      <td>movie</td>\n",
       "      <td>The Naked Monster</td>\n",
       "      <td>The Naked Monster</td>\n",
       "      <td>0</td>\n",
       "      <td>2005</td>\n",
       "      <td>NaN</td>\n",
       "      <td>100</td>\n",
       "      <td>Comedy,Horror,Sci-Fi</td>\n",
       "    </tr>\n",
       "  </tbody>\n",
       "</table>\n",
       "</div>"
      ],
      "text/plain": [
       "          tconst titleType                                       primaryTitle  \\\n",
       "34791  tt0035423     movie                                     Kate & Leopold   \n",
       "61091  tt0062336     movie  The Tango of the Widower and Its Distorting Mi...   \n",
       "67637  tt0069049     movie                         The Other Side of the Wind   \n",
       "77931  tt0079644     movie                                      November 1828   \n",
       "86768  tt0088751     movie                                  The Naked Monster   \n",
       "\n",
       "                                   originalTitle isAdult startYear endYear  \\\n",
       "34791                             Kate & Leopold       0      2001     NaN   \n",
       "61091  El Tango del Viudo y Su Espejo Deformante       0      2020     NaN   \n",
       "67637                 The Other Side of the Wind       0      2018     NaN   \n",
       "77931                              November 1828       0      2001     NaN   \n",
       "86768                          The Naked Monster       0      2005     NaN   \n",
       "\n",
       "      runtimeMinutes                  genres  \n",
       "34791            118  Comedy,Fantasy,Romance  \n",
       "61091             70                   Drama  \n",
       "67637            122                   Drama  \n",
       "77931            140               Drama,War  \n",
       "86768            100    Comedy,Horror,Sci-Fi  "
      ]
     },
     "execution_count": 16,
     "metadata": {},
     "output_type": "execute_result"
    }
   ],
   "source": [
    "#Include only movies that were released 2000 - 2021 (include 2000 and 2021)\n",
    "basics = basics[(basics['startYear'] >= '2000') & (basics['startYear'] <= '2021')]\n",
    "basics.head()"
   ]
  },
  {
   "cell_type": "code",
   "execution_count": 17,
   "id": "ffa7d9cc",
   "metadata": {},
   "outputs": [
    {
     "data": {
      "text/html": [
       "<div>\n",
       "<style scoped>\n",
       "    .dataframe tbody tr th:only-of-type {\n",
       "        vertical-align: middle;\n",
       "    }\n",
       "\n",
       "    .dataframe tbody tr th {\n",
       "        vertical-align: top;\n",
       "    }\n",
       "\n",
       "    .dataframe thead th {\n",
       "        text-align: right;\n",
       "    }\n",
       "</style>\n",
       "<table border=\"1\" class=\"dataframe\">\n",
       "  <thead>\n",
       "    <tr style=\"text-align: right;\">\n",
       "      <th></th>\n",
       "      <th>titleId</th>\n",
       "      <th>ordering</th>\n",
       "      <th>title</th>\n",
       "      <th>region</th>\n",
       "      <th>language</th>\n",
       "      <th>types</th>\n",
       "      <th>attributes</th>\n",
       "      <th>isOriginalTitle</th>\n",
       "    </tr>\n",
       "  </thead>\n",
       "  <tbody>\n",
       "    <tr>\n",
       "      <th>0</th>\n",
       "      <td>tt0000001</td>\n",
       "      <td>1</td>\n",
       "      <td>Карменсіта</td>\n",
       "      <td>UA</td>\n",
       "      <td>NaN</td>\n",
       "      <td>imdbDisplay</td>\n",
       "      <td>NaN</td>\n",
       "      <td>0</td>\n",
       "    </tr>\n",
       "    <tr>\n",
       "      <th>1</th>\n",
       "      <td>tt0000001</td>\n",
       "      <td>2</td>\n",
       "      <td>Carmencita</td>\n",
       "      <td>DE</td>\n",
       "      <td>NaN</td>\n",
       "      <td>NaN</td>\n",
       "      <td>literal title</td>\n",
       "      <td>0</td>\n",
       "    </tr>\n",
       "    <tr>\n",
       "      <th>2</th>\n",
       "      <td>tt0000001</td>\n",
       "      <td>3</td>\n",
       "      <td>Carmencita - spanyol tánc</td>\n",
       "      <td>HU</td>\n",
       "      <td>NaN</td>\n",
       "      <td>imdbDisplay</td>\n",
       "      <td>NaN</td>\n",
       "      <td>0</td>\n",
       "    </tr>\n",
       "    <tr>\n",
       "      <th>3</th>\n",
       "      <td>tt0000001</td>\n",
       "      <td>4</td>\n",
       "      <td>Καρμενσίτα</td>\n",
       "      <td>GR</td>\n",
       "      <td>NaN</td>\n",
       "      <td>imdbDisplay</td>\n",
       "      <td>NaN</td>\n",
       "      <td>0</td>\n",
       "    </tr>\n",
       "    <tr>\n",
       "      <th>4</th>\n",
       "      <td>tt0000001</td>\n",
       "      <td>5</td>\n",
       "      <td>Карменсита</td>\n",
       "      <td>RU</td>\n",
       "      <td>NaN</td>\n",
       "      <td>imdbDisplay</td>\n",
       "      <td>NaN</td>\n",
       "      <td>0</td>\n",
       "    </tr>\n",
       "  </tbody>\n",
       "</table>\n",
       "</div>"
      ],
      "text/plain": [
       "     titleId  ordering                      title region language  \\\n",
       "0  tt0000001         1                 Карменсіта     UA      NaN   \n",
       "1  tt0000001         2                 Carmencita     DE      NaN   \n",
       "2  tt0000001         3  Carmencita - spanyol tánc     HU      NaN   \n",
       "3  tt0000001         4                 Καρμενσίτα     GR      NaN   \n",
       "4  tt0000001         5                 Карменсита     RU      NaN   \n",
       "\n",
       "         types     attributes isOriginalTitle  \n",
       "0  imdbDisplay            NaN               0  \n",
       "1          NaN  literal title               0  \n",
       "2  imdbDisplay            NaN               0  \n",
       "3  imdbDisplay            NaN               0  \n",
       "4  imdbDisplay            NaN               0  "
      ]
     },
     "execution_count": 17,
     "metadata": {},
     "output_type": "execute_result"
    }
   ],
   "source": [
    "akas.head()"
   ]
  },
  {
   "cell_type": "code",
   "execution_count": 18,
   "id": "71e11524",
   "metadata": {},
   "outputs": [
    {
     "data": {
      "text/plain": [
       "JP    3947737\n",
       "FR    3947708\n",
       "DE    3930843\n",
       "IN    3876152\n",
       "ES    3870774\n",
       "       ...   \n",
       "TV          1\n",
       "NU          1\n",
       "PW          1\n",
       "NR          1\n",
       "TC          1\n",
       "Name: region, Length: 247, dtype: int64"
      ]
     },
     "execution_count": 18,
     "metadata": {},
     "output_type": "execute_result"
    }
   ],
   "source": [
    "#keep only US entries.\n",
    "akas['region'].value_counts()"
   ]
  },
  {
   "cell_type": "code",
   "execution_count": 19,
   "id": "696ce334",
   "metadata": {},
   "outputs": [
    {
     "data": {
      "text/html": [
       "<div>\n",
       "<style scoped>\n",
       "    .dataframe tbody tr th:only-of-type {\n",
       "        vertical-align: middle;\n",
       "    }\n",
       "\n",
       "    .dataframe tbody tr th {\n",
       "        vertical-align: top;\n",
       "    }\n",
       "\n",
       "    .dataframe thead th {\n",
       "        text-align: right;\n",
       "    }\n",
       "</style>\n",
       "<table border=\"1\" class=\"dataframe\">\n",
       "  <thead>\n",
       "    <tr style=\"text-align: right;\">\n",
       "      <th></th>\n",
       "      <th>titleId</th>\n",
       "      <th>ordering</th>\n",
       "      <th>title</th>\n",
       "      <th>region</th>\n",
       "      <th>language</th>\n",
       "      <th>types</th>\n",
       "      <th>attributes</th>\n",
       "      <th>isOriginalTitle</th>\n",
       "    </tr>\n",
       "  </thead>\n",
       "  <tbody>\n",
       "    <tr>\n",
       "      <th>5</th>\n",
       "      <td>tt0000001</td>\n",
       "      <td>6</td>\n",
       "      <td>Carmencita</td>\n",
       "      <td>US</td>\n",
       "      <td>NaN</td>\n",
       "      <td>imdbDisplay</td>\n",
       "      <td>NaN</td>\n",
       "      <td>0</td>\n",
       "    </tr>\n",
       "    <tr>\n",
       "      <th>14</th>\n",
       "      <td>tt0000002</td>\n",
       "      <td>7</td>\n",
       "      <td>The Clown and His Dogs</td>\n",
       "      <td>US</td>\n",
       "      <td>NaN</td>\n",
       "      <td>NaN</td>\n",
       "      <td>literal English title</td>\n",
       "      <td>0</td>\n",
       "    </tr>\n",
       "    <tr>\n",
       "      <th>33</th>\n",
       "      <td>tt0000005</td>\n",
       "      <td>10</td>\n",
       "      <td>Blacksmith Scene</td>\n",
       "      <td>US</td>\n",
       "      <td>NaN</td>\n",
       "      <td>imdbDisplay</td>\n",
       "      <td>NaN</td>\n",
       "      <td>0</td>\n",
       "    </tr>\n",
       "    <tr>\n",
       "      <th>36</th>\n",
       "      <td>tt0000005</td>\n",
       "      <td>1</td>\n",
       "      <td>Blacksmithing Scene</td>\n",
       "      <td>US</td>\n",
       "      <td>NaN</td>\n",
       "      <td>alternative</td>\n",
       "      <td>NaN</td>\n",
       "      <td>0</td>\n",
       "    </tr>\n",
       "    <tr>\n",
       "      <th>41</th>\n",
       "      <td>tt0000005</td>\n",
       "      <td>6</td>\n",
       "      <td>Blacksmith Scene #1</td>\n",
       "      <td>US</td>\n",
       "      <td>NaN</td>\n",
       "      <td>alternative</td>\n",
       "      <td>NaN</td>\n",
       "      <td>0</td>\n",
       "    </tr>\n",
       "  </tbody>\n",
       "</table>\n",
       "</div>"
      ],
      "text/plain": [
       "      titleId  ordering                   title region language        types  \\\n",
       "5   tt0000001         6              Carmencita     US      NaN  imdbDisplay   \n",
       "14  tt0000002         7  The Clown and His Dogs     US      NaN          NaN   \n",
       "33  tt0000005        10        Blacksmith Scene     US      NaN  imdbDisplay   \n",
       "36  tt0000005         1     Blacksmithing Scene     US      NaN  alternative   \n",
       "41  tt0000005         6     Blacksmith Scene #1     US      NaN  alternative   \n",
       "\n",
       "               attributes isOriginalTitle  \n",
       "5                     NaN               0  \n",
       "14  literal English title               0  \n",
       "33                    NaN               0  \n",
       "36                    NaN               0  \n",
       "41                    NaN               0  "
      ]
     },
     "execution_count": 19,
     "metadata": {},
     "output_type": "execute_result"
    }
   ],
   "source": [
    "akas = akas[akas.region == 'US']\n",
    "akas.head()"
   ]
  },
  {
   "cell_type": "code",
   "execution_count": 20,
   "id": "1bb1e63a",
   "metadata": {},
   "outputs": [
    {
     "data": {
      "text/plain": [
       "34791       True\n",
       "61091       True\n",
       "67637       True\n",
       "77931      False\n",
       "86768       True\n",
       "           ...  \n",
       "9195721     True\n",
       "9195730     True\n",
       "9195769    False\n",
       "9195814     True\n",
       "9195898    False\n",
       "Name: tconst, Length: 136805, dtype: bool"
      ]
     },
     "execution_count": 20,
     "metadata": {},
     "output_type": "execute_result"
    }
   ],
   "source": [
    "# Filter the basics table down to only include the US by using the filter akas dataframe\n",
    "keepers =basics['tconst'].isin(akas['titleId'])\n",
    "keepers"
   ]
  },
  {
   "cell_type": "code",
   "execution_count": 21,
   "id": "abeef751",
   "metadata": {},
   "outputs": [
    {
     "data": {
      "text/html": [
       "<div>\n",
       "<style scoped>\n",
       "    .dataframe tbody tr th:only-of-type {\n",
       "        vertical-align: middle;\n",
       "    }\n",
       "\n",
       "    .dataframe tbody tr th {\n",
       "        vertical-align: top;\n",
       "    }\n",
       "\n",
       "    .dataframe thead th {\n",
       "        text-align: right;\n",
       "    }\n",
       "</style>\n",
       "<table border=\"1\" class=\"dataframe\">\n",
       "  <thead>\n",
       "    <tr style=\"text-align: right;\">\n",
       "      <th></th>\n",
       "      <th>tconst</th>\n",
       "      <th>titleType</th>\n",
       "      <th>primaryTitle</th>\n",
       "      <th>originalTitle</th>\n",
       "      <th>isAdult</th>\n",
       "      <th>startYear</th>\n",
       "      <th>endYear</th>\n",
       "      <th>runtimeMinutes</th>\n",
       "      <th>genres</th>\n",
       "    </tr>\n",
       "  </thead>\n",
       "  <tbody>\n",
       "    <tr>\n",
       "      <th>34791</th>\n",
       "      <td>tt0035423</td>\n",
       "      <td>movie</td>\n",
       "      <td>Kate &amp; Leopold</td>\n",
       "      <td>Kate &amp; Leopold</td>\n",
       "      <td>0</td>\n",
       "      <td>2001</td>\n",
       "      <td>NaN</td>\n",
       "      <td>118</td>\n",
       "      <td>Comedy,Fantasy,Romance</td>\n",
       "    </tr>\n",
       "    <tr>\n",
       "      <th>61091</th>\n",
       "      <td>tt0062336</td>\n",
       "      <td>movie</td>\n",
       "      <td>The Tango of the Widower and Its Distorting Mi...</td>\n",
       "      <td>El Tango del Viudo y Su Espejo Deformante</td>\n",
       "      <td>0</td>\n",
       "      <td>2020</td>\n",
       "      <td>NaN</td>\n",
       "      <td>70</td>\n",
       "      <td>Drama</td>\n",
       "    </tr>\n",
       "    <tr>\n",
       "      <th>67637</th>\n",
       "      <td>tt0069049</td>\n",
       "      <td>movie</td>\n",
       "      <td>The Other Side of the Wind</td>\n",
       "      <td>The Other Side of the Wind</td>\n",
       "      <td>0</td>\n",
       "      <td>2018</td>\n",
       "      <td>NaN</td>\n",
       "      <td>122</td>\n",
       "      <td>Drama</td>\n",
       "    </tr>\n",
       "    <tr>\n",
       "      <th>86768</th>\n",
       "      <td>tt0088751</td>\n",
       "      <td>movie</td>\n",
       "      <td>The Naked Monster</td>\n",
       "      <td>The Naked Monster</td>\n",
       "      <td>0</td>\n",
       "      <td>2005</td>\n",
       "      <td>NaN</td>\n",
       "      <td>100</td>\n",
       "      <td>Comedy,Horror,Sci-Fi</td>\n",
       "    </tr>\n",
       "    <tr>\n",
       "      <th>93904</th>\n",
       "      <td>tt0096056</td>\n",
       "      <td>movie</td>\n",
       "      <td>Crime and Punishment</td>\n",
       "      <td>Crime and Punishment</td>\n",
       "      <td>0</td>\n",
       "      <td>2002</td>\n",
       "      <td>NaN</td>\n",
       "      <td>126</td>\n",
       "      <td>Drama</td>\n",
       "    </tr>\n",
       "    <tr>\n",
       "      <th>...</th>\n",
       "      <td>...</td>\n",
       "      <td>...</td>\n",
       "      <td>...</td>\n",
       "      <td>...</td>\n",
       "      <td>...</td>\n",
       "      <td>...</td>\n",
       "      <td>...</td>\n",
       "      <td>...</td>\n",
       "      <td>...</td>\n",
       "    </tr>\n",
       "    <tr>\n",
       "      <th>9195185</th>\n",
       "      <td>tt9914942</td>\n",
       "      <td>movie</td>\n",
       "      <td>Life Without Sara Amat</td>\n",
       "      <td>La vida sense la Sara Amat</td>\n",
       "      <td>0</td>\n",
       "      <td>2019</td>\n",
       "      <td>NaN</td>\n",
       "      <td>74</td>\n",
       "      <td>Drama</td>\n",
       "    </tr>\n",
       "    <tr>\n",
       "      <th>9195581</th>\n",
       "      <td>tt9915872</td>\n",
       "      <td>movie</td>\n",
       "      <td>The Last White Witch</td>\n",
       "      <td>My Girlfriend is a Wizard</td>\n",
       "      <td>0</td>\n",
       "      <td>2019</td>\n",
       "      <td>NaN</td>\n",
       "      <td>97</td>\n",
       "      <td>Comedy,Drama,Fantasy</td>\n",
       "    </tr>\n",
       "    <tr>\n",
       "      <th>9195721</th>\n",
       "      <td>tt9916170</td>\n",
       "      <td>movie</td>\n",
       "      <td>The Rehearsal</td>\n",
       "      <td>O Ensaio</td>\n",
       "      <td>0</td>\n",
       "      <td>2019</td>\n",
       "      <td>NaN</td>\n",
       "      <td>51</td>\n",
       "      <td>Drama</td>\n",
       "    </tr>\n",
       "    <tr>\n",
       "      <th>9195730</th>\n",
       "      <td>tt9916190</td>\n",
       "      <td>movie</td>\n",
       "      <td>Safeguard</td>\n",
       "      <td>Safeguard</td>\n",
       "      <td>0</td>\n",
       "      <td>2020</td>\n",
       "      <td>NaN</td>\n",
       "      <td>95</td>\n",
       "      <td>Action,Adventure,Thriller</td>\n",
       "    </tr>\n",
       "    <tr>\n",
       "      <th>9195814</th>\n",
       "      <td>tt9916362</td>\n",
       "      <td>movie</td>\n",
       "      <td>Coven</td>\n",
       "      <td>Akelarre</td>\n",
       "      <td>0</td>\n",
       "      <td>2020</td>\n",
       "      <td>NaN</td>\n",
       "      <td>92</td>\n",
       "      <td>Drama,History</td>\n",
       "    </tr>\n",
       "  </tbody>\n",
       "</table>\n",
       "<p>79647 rows × 9 columns</p>\n",
       "</div>"
      ],
      "text/plain": [
       "            tconst titleType  \\\n",
       "34791    tt0035423     movie   \n",
       "61091    tt0062336     movie   \n",
       "67637    tt0069049     movie   \n",
       "86768    tt0088751     movie   \n",
       "93904    tt0096056     movie   \n",
       "...            ...       ...   \n",
       "9195185  tt9914942     movie   \n",
       "9195581  tt9915872     movie   \n",
       "9195721  tt9916170     movie   \n",
       "9195730  tt9916190     movie   \n",
       "9195814  tt9916362     movie   \n",
       "\n",
       "                                              primaryTitle  \\\n",
       "34791                                       Kate & Leopold   \n",
       "61091    The Tango of the Widower and Its Distorting Mi...   \n",
       "67637                           The Other Side of the Wind   \n",
       "86768                                    The Naked Monster   \n",
       "93904                                 Crime and Punishment   \n",
       "...                                                    ...   \n",
       "9195185                             Life Without Sara Amat   \n",
       "9195581                               The Last White Witch   \n",
       "9195721                                      The Rehearsal   \n",
       "9195730                                          Safeguard   \n",
       "9195814                                              Coven   \n",
       "\n",
       "                                     originalTitle isAdult startYear endYear  \\\n",
       "34791                               Kate & Leopold       0      2001     NaN   \n",
       "61091    El Tango del Viudo y Su Espejo Deformante       0      2020     NaN   \n",
       "67637                   The Other Side of the Wind       0      2018     NaN   \n",
       "86768                            The Naked Monster       0      2005     NaN   \n",
       "93904                         Crime and Punishment       0      2002     NaN   \n",
       "...                                            ...     ...       ...     ...   \n",
       "9195185                 La vida sense la Sara Amat       0      2019     NaN   \n",
       "9195581                  My Girlfriend is a Wizard       0      2019     NaN   \n",
       "9195721                                   O Ensaio       0      2019     NaN   \n",
       "9195730                                  Safeguard       0      2020     NaN   \n",
       "9195814                                   Akelarre       0      2020     NaN   \n",
       "\n",
       "        runtimeMinutes                     genres  \n",
       "34791              118     Comedy,Fantasy,Romance  \n",
       "61091               70                      Drama  \n",
       "67637              122                      Drama  \n",
       "86768              100       Comedy,Horror,Sci-Fi  \n",
       "93904              126                      Drama  \n",
       "...                ...                        ...  \n",
       "9195185             74                      Drama  \n",
       "9195581             97       Comedy,Drama,Fantasy  \n",
       "9195721             51                      Drama  \n",
       "9195730             95  Action,Adventure,Thriller  \n",
       "9195814             92              Drama,History  \n",
       "\n",
       "[79647 rows x 9 columns]"
      ]
     },
     "execution_count": 21,
     "metadata": {},
     "output_type": "execute_result"
    }
   ],
   "source": [
    "basics = basics[keepers]\n",
    "basics"
   ]
  },
  {
   "cell_type": "code",
   "execution_count": 22,
   "id": "377012e2",
   "metadata": {},
   "outputs": [
    {
     "name": "stdout",
     "output_type": "stream",
     "text": [
      "<class 'pandas.core.frame.DataFrame'>\n",
      "Int64Index: 79647 entries, 34791 to 9195814\n",
      "Data columns (total 9 columns):\n",
      " #   Column          Non-Null Count  Dtype \n",
      "---  ------          --------------  ----- \n",
      " 0   tconst          79647 non-null  object\n",
      " 1   titleType       79647 non-null  object\n",
      " 2   primaryTitle    79647 non-null  object\n",
      " 3   originalTitle   79647 non-null  object\n",
      " 4   isAdult         79647 non-null  object\n",
      " 5   startYear       79647 non-null  object\n",
      " 6   endYear         0 non-null      object\n",
      " 7   runtimeMinutes  79647 non-null  object\n",
      " 8   genres          79647 non-null  object\n",
      "dtypes: object(9)\n",
      "memory usage: 6.1+ MB\n"
     ]
    }
   ],
   "source": [
    "basics.info()"
   ]
  },
  {
   "cell_type": "code",
   "execution_count": 23,
   "id": "419f0d79",
   "metadata": {},
   "outputs": [
    {
     "name": "stdout",
     "output_type": "stream",
     "text": [
      "<class 'pandas.core.frame.DataFrame'>\n",
      "Int64Index: 1346280 entries, 5 to 33060654\n",
      "Data columns (total 8 columns):\n",
      " #   Column           Non-Null Count    Dtype \n",
      "---  ------           --------------    ----- \n",
      " 0   titleId          1346280 non-null  object\n",
      " 1   ordering         1346280 non-null  int64 \n",
      " 2   title            1346280 non-null  object\n",
      " 3   region           1346280 non-null  object\n",
      " 4   language         3697 non-null     object\n",
      " 5   types            963762 non-null   object\n",
      " 6   attributes       44846 non-null    object\n",
      " 7   isOriginalTitle  1344905 non-null  object\n",
      "dtypes: int64(1), object(7)\n",
      "memory usage: 92.4+ MB\n"
     ]
    }
   ],
   "source": [
    "akas.info()"
   ]
  },
  {
   "cell_type": "code",
   "execution_count": 24,
   "id": "6086d475",
   "metadata": {},
   "outputs": [
    {
     "name": "stdout",
     "output_type": "stream",
     "text": [
      "<class 'pandas.core.frame.DataFrame'>\n",
      "RangeIndex: 1258682 entries, 0 to 1258681\n",
      "Data columns (total 3 columns):\n",
      " #   Column         Non-Null Count    Dtype  \n",
      "---  ------         --------------    -----  \n",
      " 0   tconst         1258682 non-null  object \n",
      " 1   averageRating  1258682 non-null  float64\n",
      " 2   numVotes       1258682 non-null  int64  \n",
      "dtypes: float64(1), int64(1), object(1)\n",
      "memory usage: 28.8+ MB\n"
     ]
    }
   ],
   "source": [
    "rating.info()"
   ]
  },
  {
   "cell_type": "code",
   "execution_count": 50,
   "id": "2da62a7a",
   "metadata": {},
   "outputs": [],
   "source": [
    "akas[\"language\"].fillna(\"unknwn\", inplace = True)\n",
    "akas[\"types\"].fillna(\"unknwn\", inplace = True)\n",
    "akas[\"attributes\"].fillna(\"unknwn\", inplace = True)\n",
    "akas[\"isOriginalTitle\"].fillna(\"unknwn\", inplace = True)"
   ]
  },
  {
   "cell_type": "code",
   "execution_count": 51,
   "id": "eac2af3b",
   "metadata": {},
   "outputs": [],
   "source": [
    "basics = basics.drop(columns = [\"endYear\"])"
   ]
  },
  {
   "cell_type": "code",
   "execution_count": 52,
   "id": "a5a79eab",
   "metadata": {},
   "outputs": [
    {
     "data": {
      "text/plain": [
       "dict_keys(['api-key'])"
      ]
     },
     "execution_count": 52,
     "metadata": {},
     "output_type": "execute_result"
    }
   ],
   "source": [
    "with open('/Users/Yeajoon Yoo/codingdojo/.secret/tmdb_api.json', 'r') as f:\n",
    "    login = json.load(f)\n",
    "## Display the keys of the loaded dict\n",
    "login.keys()"
   ]
  },
  {
   "cell_type": "code",
   "execution_count": 53,
   "id": "b7a68520",
   "metadata": {},
   "outputs": [],
   "source": [
    "tmdb.API_KEY =  login['api-key']"
   ]
  },
  {
   "cell_type": "code",
   "execution_count": 54,
   "id": "5c05ce39",
   "metadata": {},
   "outputs": [],
   "source": [
    "def get_movie_and_rating(movie_id):    \n",
    "    \n",
    "    movie = tmdb.Movies(movie_id)\n",
    "    movie_info = movie.info()\n",
    "    releases = movie.releases()\n",
    "\n",
    "    for c in releases['countries']:\n",
    "        if c['iso_3166_1' ] =='US':\n",
    "            movie_info['certification'] = c['certification']\n",
    "    return movie_info"
   ]
  },
  {
   "cell_type": "code",
   "execution_count": 55,
   "id": "fb9ddad0",
   "metadata": {},
   "outputs": [
    {
     "data": {
      "text/plain": [
       "{'adult': False,\n",
       " 'backdrop_path': '/9BBTo63ANSmhC4e6r62OJFuK2GL.jpg',\n",
       " 'belongs_to_collection': {'id': 86311,\n",
       "  'name': 'The Avengers Collection',\n",
       "  'poster_path': '/yFSIUVTCvgYrpalUktulvk3Gi5Y.jpg',\n",
       "  'backdrop_path': '/zuW6fOiusv4X9nnW3paHGfXcSll.jpg'},\n",
       " 'budget': 220000000,\n",
       " 'genres': [{'id': 878, 'name': 'Science Fiction'},\n",
       "  {'id': 28, 'name': 'Action'},\n",
       "  {'id': 12, 'name': 'Adventure'}],\n",
       " 'homepage': 'https://www.marvel.com/movies/the-avengers',\n",
       " 'id': 24428,\n",
       " 'imdb_id': 'tt0848228',\n",
       " 'original_language': 'en',\n",
       " 'original_title': 'The Avengers',\n",
       " 'overview': 'When an unexpected enemy emerges and threatens global safety and security, Nick Fury, director of the international peacekeeping agency known as S.H.I.E.L.D., finds himself in need of a team to pull the world back from the brink of disaster. Spanning the globe, a daring recruitment effort begins!',\n",
       " 'popularity': 209.046,\n",
       " 'poster_path': '/RYMX2wcKCBAr24UyPD7xwmjaTn.jpg',\n",
       " 'production_companies': [{'id': 420,\n",
       "   'logo_path': '/hUzeosd33nzE5MCNsZxCGEKTXaQ.png',\n",
       "   'name': 'Marvel Studios',\n",
       "   'origin_country': 'US'}],\n",
       " 'production_countries': [{'iso_3166_1': 'US',\n",
       "   'name': 'United States of America'}],\n",
       " 'release_date': '2012-04-25',\n",
       " 'revenue': 1518815515,\n",
       " 'runtime': 143,\n",
       " 'spoken_languages': [{'english_name': 'English',\n",
       "   'iso_639_1': 'en',\n",
       "   'name': 'English'},\n",
       "  {'english_name': 'Hindi', 'iso_639_1': 'hi', 'name': 'हिन्दी'},\n",
       "  {'english_name': 'Russian', 'iso_639_1': 'ru', 'name': 'Pусский'}],\n",
       " 'status': 'Released',\n",
       " 'tagline': 'Some assembly required.',\n",
       " 'title': 'The Avengers',\n",
       " 'video': False,\n",
       " 'vote_average': 7.706,\n",
       " 'vote_count': 27430,\n",
       " 'certification': 'PG-13'}"
      ]
     },
     "execution_count": 55,
     "metadata": {},
     "output_type": "execute_result"
    }
   ],
   "source": [
    "#Avengers\n",
    "test = get_movie_and_rating(\"tt0848228\")\n",
    "test"
   ]
  },
  {
   "cell_type": "code",
   "execution_count": 56,
   "id": "fdae38e4",
   "metadata": {},
   "outputs": [
    {
     "data": {
      "text/plain": [
       "['.ipynb_checkpoints',\n",
       " 'final_tmdb_data_2000.csv.gz',\n",
       " 'final_tmdb_data_2001.csv.gz',\n",
       " 'title_akas.csv.gz',\n",
       " 'title_basics.csv.gz',\n",
       " 'title_rating.csv.gz',\n",
       " 'tmdb_api_results_2000.json',\n",
       " 'tmdb_api_results_2001.json']"
      ]
     },
     "execution_count": 56,
     "metadata": {},
     "output_type": "execute_result"
    }
   ],
   "source": [
    "FOLDER = \"Data/\"\n",
    "os.makedirs(FOLDER, exist_ok=True)\n",
    "os.listdir(FOLDER)"
   ]
  },
  {
   "cell_type": "code",
   "execution_count": 57,
   "id": "9792376c",
   "metadata": {},
   "outputs": [],
   "source": [
    "YEARS_TO_GET =[2000,2001]"
   ]
  },
  {
   "cell_type": "code",
   "execution_count": 58,
   "id": "9c17c27d",
   "metadata": {},
   "outputs": [],
   "source": [
    "def read_and_fix_json(JSON_FILE):\n",
    "   \n",
    "    try: \n",
    "        previous_df =  pd.read_json(JSON_FILE)\n",
    "    \n",
    "    except:\n",
    "        \n",
    "        with open(JSON_FILE,'r+') as f:\n",
    "            bad_json = f.read()\n",
    "            \n",
    "            first_char = bad_json[0]\n",
    "            final_brackets = {'[':']', \n",
    "                           \"{\":\"}\"}\n",
    "            final_char = final_brackets[first_char]\n",
    "            \n",
    "            if bad_json[-1] != final_char:\n",
    "                good_json = bad_json[:-1]\n",
    "                good_json+=final_char\n",
    "            else:\n",
    "                raise Exception('ERROR is not due to mismatched final bracket.')\n",
    "            \n",
    "            f.seek(0)\n",
    "            f.write(good_json)\n",
    "           \n",
    "        previous_df =  pd.read_json(JSON_FILE)\n",
    "        \n",
    "    return previous_df"
   ]
  },
  {
   "cell_type": "code",
   "execution_count": 59,
   "id": "3b2cf466",
   "metadata": {},
   "outputs": [],
   "source": [
    "def get_rating(movie_id):\n",
    "    movie = tmdb.Movies(movie_id)\n",
    "    movie_info = movie.info()\n",
    "    releases = movie.releases()\n",
    "    for c in releases['countries']:\n",
    "        if c['iso_3166_1'] =='US':\n",
    "            movie_info['certification'] = c['certification']\n",
    "    return movie_info"
   ]
  },
  {
   "cell_type": "code",
   "execution_count": 60,
   "id": "194acf8d",
   "metadata": {},
   "outputs": [],
   "source": [
    "def write_json(new_data, filename):\n",
    "    with open(filename,'r+') as file:\n",
    "        file_data = json.load(file)\n",
    "        if (type(new_data) == list) & (type(file_data) == list):\n",
    "            file_data.extend(new_data)\n",
    "        else:\n",
    "            file_data.append(new_data)\n",
    "        file.seek(0)\n",
    "        json.dump(file_data, file)"
   ]
  },
  {
   "cell_type": "code",
   "execution_count": 61,
   "id": "20c035df",
   "metadata": {},
   "outputs": [
    {
     "data": {
      "application/vnd.jupyter.widget-view+json": {
       "model_id": "edebf0eb91784e5899071f90d5fa41ba",
       "version_major": 2,
       "version_minor": 0
      },
      "text/plain": [
       "YEARS:   0%|          | 0/2 [00:00<?, ?it/s]"
      ]
     },
     "metadata": {},
     "output_type": "display_data"
    },
    {
     "data": {
      "application/vnd.jupyter.widget-view+json": {
       "model_id": "10897b8b3ff549d496d151f6496d8ac6",
       "version_major": 2,
       "version_minor": 0
      },
      "text/plain": [
       "Movies from 2000: 0it [00:00, ?it/s]"
      ]
     },
     "metadata": {},
     "output_type": "display_data"
    },
    {
     "data": {
      "application/vnd.jupyter.widget-view+json": {
       "model_id": "336248c43c9a413caac6134effa12762",
       "version_major": 2,
       "version_minor": 0
      },
      "text/plain": [
       "Movies from 2001: 0it [00:00, ?it/s]"
      ]
     },
     "metadata": {},
     "output_type": "display_data"
    }
   ],
   "source": [
    "# Start of OUTER loop\n",
    "for YEAR in tqdm_notebook(YEARS_TO_GET, desc='YEARS', position=0):\n",
    "    JSON_FILE = f'{FOLDER}tmdb_api_results_{YEAR}.json'\n",
    "    file_exists = os.path.isfile(JSON_FILE)\n",
    "    \n",
    "    if file_exists == False:\n",
    "        with open(JSON_FILE,'w') as f:\n",
    "            json.dump([{'imdb_id':0}],f)\n",
    "\n",
    "    df = basics.loc[basics['startYear']==YEAR].copy()\n",
    "    movie_ids = df['tconst'].copy()\n",
    "    previous_df = read_and_fix_json(JSON_FILE)\n",
    "    movie_ids_to_get = movie_ids[~movie_ids.isin(previous_df['imdb_id'])]        \n",
    "\n",
    "    for movie_id in tqdm_notebook(movie_ids_to_get, desc=f'Movies from {YEAR}', position=1, leave=True):\n",
    "        try:\n",
    "            temp = get_rating(movie_id)\n",
    "            write_json(temp, JSON_FILE)\n",
    "            time.sleep(0.02)\n",
    "            \n",
    "        except Exception as e:\n",
    "            continue\n",
    "            \n",
    "    final_year_df = pd.read_json(JSON_FILE)\n",
    "    final_year_df.to_csv(f\"{FOLDER}final_tmdb_data_{YEAR}.csv.gz\", compression=\"gzip\", index=False)"
   ]
  },
  {
   "cell_type": "code",
   "execution_count": 62,
   "id": "0f3a5004",
   "metadata": {},
   "outputs": [],
   "source": [
    "## Save current dataframe to file.\n",
    "basics.to_csv(\"Data/title_basics.csv.gz\",compression='gzip',index=False)\n",
    "akas.to_csv(\"Data/title_akas.csv.gz\",compression='gzip',index=False)\n",
    "rating.to_csv(\"Data/title_rating.csv.gz\",compression='gzip',index=False)"
   ]
  },
  {
   "cell_type": "code",
   "execution_count": null,
   "id": "2bc3753f",
   "metadata": {},
   "outputs": [],
   "source": []
  }
 ],
 "metadata": {
  "kernelspec": {
   "display_name": "Python (dojo-env)",
   "language": "python",
   "name": "dojo-env"
  },
  "language_info": {
   "codemirror_mode": {
    "name": "ipython",
    "version": 3
   },
   "file_extension": ".py",
   "mimetype": "text/x-python",
   "name": "python",
   "nbconvert_exporter": "python",
   "pygments_lexer": "ipython3",
   "version": "3.8.13"
  },
  "toc": {
   "base_numbering": 1,
   "nav_menu": {},
   "number_sections": false,
   "sideBar": true,
   "skip_h1_title": false,
   "title_cell": "Table of Contents",
   "title_sidebar": "Contents",
   "toc_cell": false,
   "toc_position": {},
   "toc_section_display": true,
   "toc_window_display": false
  }
 },
 "nbformat": 4,
 "nbformat_minor": 5
}
